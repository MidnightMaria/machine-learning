{
 "cells": [
  {
   "cell_type": "code",
   "execution_count": null,
   "metadata": {},
   "outputs": [],
   "source": [
    "import pandas as pd\n",
    "import matplotlib.pyplot as plt\n",
    "\n",
    "# Membuat data frame dengan informasi mahasiswa\n",
    "fakultas = [\"Bisnis\", \"D3 Perhotelan\", \"ICT\", \"Ilmu Komunikasi\", \"Seni dan Desain\"]\n",
    "jumlah_mahasiswa = [260, 28, 284, 465, 735]\n",
    "akreditasi = [\"A\", \"A\", \"B\", \"A\", \"A\"]\n",
    "info_mahasiswa = pd.DataFrame({\"fakultas\": fakultas, \"jumlah_mahasiswa\": jumlah_mahasiswa, \"akreditasi\": akreditasi})\n",
    "\n",
    "# Menampilkan data frame\n",
    "print(info_mahasiswa)\n",
    "\n",
    "# Membuat warna untuk setiap fakultas\n",
    "colors = ['orange', 'yellow', 'green', 'blue', 'purple']\n",
    "\n",
    "# Membuat grafik batang jumlah mahasiswa per fakultas\n",
    "plt.bar(info_mahasiswa[\"fakultas\"], info_mahasiswa[\"jumlah_mahasiswa\"], color=colors)\n",
    "plt.title(\"Jumlah Mahasiswa per Fakultas\")\n",
    "plt.xlabel(\"Fakultas\")\n",
    "plt.ylabel(\"Jumlah Mahasiswa\")\n",
    "plt.xticks(rotation=45)\n",
    "plt.show()\n"
   ]
  }
 ],
 "metadata": {
  "language_info": {
   "name": "python"
  }
 },
 "nbformat": 4,
 "nbformat_minor": 2
}

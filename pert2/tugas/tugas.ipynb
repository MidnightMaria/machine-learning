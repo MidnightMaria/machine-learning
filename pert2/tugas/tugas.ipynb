{
 "cells": [
  {
   "cell_type": "code",
   "execution_count": 3,
   "metadata": {},
   "outputs": [
    {
     "ename": "ModuleNotFoundError",
     "evalue": "No module named 'matplotlib'",
     "output_type": "error",
     "traceback": [
      "\u001b[1;31m---------------------------------------------------------------------------\u001b[0m",
      "\u001b[1;31mModuleNotFoundError\u001b[0m                       Traceback (most recent call last)",
      "Cell \u001b[1;32mIn[3], line 1\u001b[0m\n\u001b[1;32m----> 1\u001b[0m \u001b[38;5;28;01mimport\u001b[39;00m \u001b[38;5;21;01mmatplotlib\u001b[39;00m\u001b[38;5;21;01m.\u001b[39;00m\u001b[38;5;21;01mpyplot\u001b[39;00m \u001b[38;5;28;01mas\u001b[39;00m \u001b[38;5;21;01mplt\u001b[39;00m\n\u001b[0;32m      3\u001b[0m flavors \u001b[38;5;241m=\u001b[39m (\u001b[38;5;124m'\u001b[39m\u001b[38;5;124mChocolate\u001b[39m\u001b[38;5;124m'\u001b[39m, \u001b[38;5;124m'\u001b[39m\u001b[38;5;124mVanilla\u001b[39m\u001b[38;5;124m'\u001b[39m, \u001b[38;5;124m'\u001b[39m\u001b[38;5;124mPistachio\u001b[39m\u001b[38;5;124m'\u001b[39m, \u001b[38;5;124m'\u001b[39m\u001b[38;5;124mMango\u001b[39m\u001b[38;5;124m'\u001b[39m, \u001b[38;5;124m'\u001b[39m\u001b[38;5;124mStrawberry\u001b[39m\u001b[38;5;124m'\u001b[39m)\n\u001b[0;32m      4\u001b[0m votes \u001b[38;5;241m=\u001b[39m (\u001b[38;5;241m12\u001b[39m, \u001b[38;5;241m11\u001b[39m, \u001b[38;5;241m4\u001b[39m, \u001b[38;5;241m8\u001b[39m, \u001b[38;5;241m7\u001b[39m)\n",
      "\u001b[1;31mModuleNotFoundError\u001b[0m: No module named 'matplotlib'"
     ]
    }
   ],
   "source": [
    "# Soal 1\n",
    "nama = \"Agnes Maria Anggelina\"\n",
    "nim = \"20200801069\"\n",
    "mata_kuliah = \"Machine Learning\"\n",
    "\n",
    "print(\"=== SOAL 1 ===\")\n",
    "print(\"DATA DIRI\")\n",
    "print(f\"Nama        : {nama}\")\n",
    "print(f\"NIM         : {nim}\")\n",
    "print(f\"Perkuliahan : {mata_kuliah}\")\n",
    "print(\"\\n\")"
   ]
  },
  {
   "cell_type": "code",
   "execution_count": null,
   "metadata": {},
   "outputs": [],
   "source": [
    "# Soal 2\n",
    "matriksC = [\n",
    "    [1, 2, 3],\n",
    "    [4, 5, 6]   \n",
    "]\n",
    "\n",
    "print(\"=== SOAL 2 ===\")\n",
    "print(\"Matriks C:\")\n",
    "for baris in matriksC:\n",
    "    print(baris)\n"
   ]
  },
  {
   "cell_type": "code",
   "execution_count": null,
   "metadata": {},
   "outputs": [],
   "source": [
    "# Soal 3 \n",
    "print(\"\\n=== SOAL 3 ===\")\n",
    "\n",
    "# Membuat matriks dengan orde 3x2 dan nilai yang diberikan\n",
    "matriks = [\n",
    "    [2, 2],\n",
    "    [2, 2],\n",
    "    [2, 2]\n",
    "]\n",
    "\n",
    "# Menampilkan matriks\n",
    "print(\"Matriks:\")\n",
    "for baris in matriks:\n",
    "    print(baris)\n"
   ]
  },
  {
   "cell_type": "code",
   "execution_count": null,
   "metadata": {},
   "outputs": [],
   "source": [
    "# Soal 4 \n",
    "\n",
    "import numpy as np"
   ]
  },
  {
   "cell_type": "code",
   "execution_count": 2,
   "metadata": {},
   "outputs": [],
   "source": [
    "# Soal 5 \n",
    "\n",
    "import numpy as np\n",
    "\n",
    "# Panjang elemen\n",
    "panjang_elemen = 32\n",
    "\n",
    "# Buat array 1D dengan panjang elemen 32\n",
    "array_1d = np.arange(panjang_elemen)\n",
    "\n",
    "# Ubah array 1D menjadi matriks 2D dengan orde 4x8\n",
    "matriks = array_1d.reshape(4, 8)\n",
    "\n",
    "# Tampilkan matriks\n",
    "print(\"Matriks:\")\n",
    "print(matriks)\n"
   ]
  },
  {
   "cell_type": "code",
   "execution_count": null,
   "metadata": {},
   "outputs": [],
   "source": [
    "# Soal 6\n",
    "\n",
    "import numpy as np\n",
    "\n",
    "# Buat matriks acak dengan elemen antara 1 dan 5\n",
    "matriks_acak = np.random.randint(1, 6, size=(3, 30))\n",
    "\n",
    "# Tampilkan matriks\n",
    "print(\"Matriks:\")\n",
    "print(matriks_acak)\n"
   ]
  }
 ],
 "metadata": {
  "kernelspec": {
   "display_name": "Python 3",
   "language": "python",
   "name": "python3"
  },
  "language_info": {
   "codemirror_mode": {
    "name": "ipython",
    "version": 3
   },
   "file_extension": ".py",
   "mimetype": "text/x-python",
   "name": "python",
   "nbconvert_exporter": "python",
   "pygments_lexer": "ipython3",
   "version": "3.12.2"
  }
 },
 "nbformat": 4,
 "nbformat_minor": 2
}

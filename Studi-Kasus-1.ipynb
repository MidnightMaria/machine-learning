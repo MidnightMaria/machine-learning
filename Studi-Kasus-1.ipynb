{
 "cells": [
  {
   "cell_type": "code",
   "execution_count": null,
   "metadata": {},
   "outputs": [],
   "source": [
    "import pandas as pd\n",
    "\n",
    "# Membuat DataFrame dengan data yang diberikan\n",
    "data = {\n",
    "    \"HARI\": [\"Senin\", \"Selasa\", \"Rabu\", \"Kamis\", \"Jumat\", \"Sabtu\", \"Minggu\"],\n",
    "    \"DATANG\": [2, 3, 4, 1, 2, 5, 2],\n",
    "    \"BIAYA\": [30000*2, 35000*3, 25000*4, 15000*1, 20000*2, 30000*5, 35000*2],\n",
    "    \"MAHASISWA\": [\"Ani\", \"Budi\", \"Jono\", \"Lono\", \"Joni\", \"Ani\", \"Budi\"]\n",
    "}\n",
    "\n",
    "df = pd.DataFrame(data)\n",
    "\n",
    "# a) Rata-rata mahasiswa datang pada minggu ini\n",
    "rata_rata_datang = df[\"DATANG\"].mean()\n",
    "\n",
    "# b) Kapan biaya tertinggi terjadi?\n",
    "biaya_tertinggi = df[df[\"BIAYA\"] == df[\"BIAYA\"].max()][\"HARI\"].values[0]\n",
    "\n",
    "# c) Hari apa biaya lebih dari 110000?\n",
    "hari_biaya_lebih_110000 = df[df[\"BIAYA\"] > 110000][\"HARI\"].values\n",
    "\n",
    "# d) Siapa yang paling banyak datang ke kampus?\n",
    "mahasiswa_paling_banyak_datang = df[\"MAHASISWA\"].value_counts().idxmax()\n",
    "\n",
    "# e) Siapa yang datang pada hari Minggu?\n",
    "mahasiswa_datang_minggu = df[df[\"HARI\"] == \"Minggu\"][\"MAHASISWA\"].values\n",
    "\n",
    "# f) Biaya tertinggi dan terendah\n",
    "biaya_tertinggi = df[\"BIAYA\"].max()\n",
    "biaya_terendah = df[\"BIAYA\"].min()\n",
    "\n",
    "# g) Frekuensi datang tertinggi dan terendah\n",
    "frekuensi_datang_tertinggi = df[\"DATANG\"].max()\n",
    "frekuensi_datang_terendah = df[\"DATANG\"].min()\n",
    "\n",
    "# Menampilkan hasil\n",
    "print(\"a) Rata-rata mahasiswa datang pada minggu ini:\", rata_rata_datang)\n",
    "print(\"b) Kapan biaya tertinggi terjadi?:\", biaya_tertinggi)\n",
    "print(\"c) Hari apa biaya lebih dari 110000?:\", hari_biaya_lebih_110000)\n",
    "print(\"d) Siapa yang paling banyak datang ke kampus?:\", mahasiswa_paling_banyak_datang)\n",
    "print(\"e) Siapa yang datang pada hari Minggu?:\", mahasiswa_datang_minggu)\n",
    "print(\"f) Biaya tertinggi:\", biaya_tertinggi)\n",
    "print(\"   Biaya terendah:\", biaya_terendah)\n",
    "print(\"g) Frekuensi datang tertinggi:\", frekuensi_datang_tertinggi)\n",
    "print(\"   Frekuensi datang terendah:\", frekuensi_datang_terendah)\n"
   ]
  },
  {
   "cell_type": "code",
   "execution_count": null,
   "metadata": {},
   "outputs": [],
   "source": []
  }
 ],
 "metadata": {
  "kernelspec": {
   "display_name": "Python 3",
   "language": "python",
   "name": "python3"
  },
  "language_info": {
   "codemirror_mode": {
    "name": "ipython",
    "version": 3
   },
   "file_extension": ".py",
   "mimetype": "text/x-python",
   "name": "python",
   "nbconvert_exporter": "python",
   "pygments_lexer": "ipython3",
   "version": "3.12.3"
  }
 },
 "nbformat": 4,
 "nbformat_minor": 2
}
